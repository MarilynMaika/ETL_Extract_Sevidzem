{
 "cells": [
  {
   "cell_type": "code",
   "execution_count": 2,
   "id": "7ad38476",
   "metadata": {},
   "outputs": [],
   "source": [
    "import pandas as pd\n",
    "import numpy as np\n",
    "from datetime import datetime, timedelta\n",
    "import random"
   ]
  },
  {
   "cell_type": "markdown",
   "id": "6a66ad63",
   "metadata": {},
   "source": [
    "## Simulating to get the data"
   ]
  },
  {
   "cell_type": "code",
   "execution_count": 3,
   "id": "4b56c81d",
   "metadata": {},
   "outputs": [
    {
     "name": "stdout",
     "output_type": "stream",
     "text": [
      "Extracted User data (first 5 rows):\n",
      "   user_id  age signup_date   country  is_active         last_updated\n",
      "0        1   25  2022-04-13  Cameroon      False  2022-04-13T20:07:00\n",
      "1        2   41  2022-12-15       USA      False  2022-12-15T00:47:00\n",
      "2        3   28  2022-09-28     Kenya      False  2022-09-28T08:15:00\n",
      "3        4   34  2022-04-17        UK       True  2022-04-17T07:08:00\n",
      "4        5   25  2022-03-13     Kenya      False  2022-03-13T23:06:00\n"
     ]
    }
   ],
   "source": [
    "\n",
    "\n",
    "np.random.seed(42)\n",
    "random.seed(42)  \n",
    "num_records = 100\n",
    "\n",
    "# Generate signup dates\n",
    "signup_dates = pd.to_datetime('2022-01-01') + pd.to_timedelta(np.random.randint(0, 365, size=num_records), unit='D')\n",
    "\n",
    "# Create user data DataFrame\n",
    "user_data = pd.DataFrame({\n",
    "    'user_id': np.arange(1, num_records + 1),\n",
    "    'age': np.random.randint(18, 60, size=num_records),\n",
    "    'signup_date': signup_dates,\n",
    "    'country': np.random.choice(['Kenya', 'Cameroon', 'USA', 'UK'], size=num_records),\n",
    "    'is_active': np.random.choice([True, False], size=num_records),\n",
    "})\n",
    "\n",
    "# Generate last_updated timestamps\n",
    "user_data['last_updated'] = [\n",
    "    (signup + timedelta(hours=random.randint(0, 23), minutes=random.randint(0, 59))).isoformat()\n",
    "    for signup in signup_dates\n",
    "]\n",
    "\n",
    "print(\"Extracted User data (first 5 rows):\")\n",
    "print(user_data.head())\n"
   ]
  },
  {
   "cell_type": "code",
   "execution_count": 4,
   "id": "ccd93f3f",
   "metadata": {},
   "outputs": [
    {
     "data": {
      "text/plain": [
       "(100, 6)"
      ]
     },
     "execution_count": 4,
     "metadata": {},
     "output_type": "execute_result"
    }
   ],
   "source": [
    "user_data.shape"
   ]
  },
  {
   "cell_type": "code",
   "execution_count": 5,
   "id": "465a2075",
   "metadata": {},
   "outputs": [],
   "source": [
    "user_data.to_csv('user_data_large.csv', index=False)\n",
    "\n"
   ]
  },
  {
   "cell_type": "markdown",
   "id": "afbed5da",
   "metadata": {},
   "source": [
    "## Performing full extraction"
   ]
  },
  {
   "cell_type": "code",
   "execution_count": 6,
   "id": "b6c6c789",
   "metadata": {},
   "outputs": [
    {
     "name": "stdout",
     "output_type": "stream",
     "text": [
      "Pulled 100 rows via full extraction.\n"
     ]
    },
    {
     "data": {
      "application/vnd.microsoft.datawrangler.viewer.v0+json": {
       "columns": [
        {
         "name": "index",
         "rawType": "int64",
         "type": "integer"
        },
        {
         "name": "user_id",
         "rawType": "int64",
         "type": "integer"
        },
        {
         "name": "age",
         "rawType": "int64",
         "type": "integer"
        },
        {
         "name": "signup_date",
         "rawType": "object",
         "type": "string"
        },
        {
         "name": "country",
         "rawType": "object",
         "type": "string"
        },
        {
         "name": "is_active",
         "rawType": "bool",
         "type": "boolean"
        },
        {
         "name": "last_updated",
         "rawType": "datetime64[ns]",
         "type": "datetime"
        }
       ],
       "ref": "47b6fe1b-32d6-43ff-bbdb-8c576ed334a1",
       "rows": [
        [
         "0",
         "1",
         "25",
         "2022-04-13",
         "Cameroon",
         "False",
         "2022-04-13 20:07:00"
        ],
        [
         "1",
         "2",
         "41",
         "2022-12-15",
         "USA",
         "False",
         "2022-12-15 00:47:00"
        ],
        [
         "2",
         "3",
         "28",
         "2022-09-28",
         "Kenya",
         "False",
         "2022-09-28 08:15:00"
        ],
        [
         "3",
         "4",
         "34",
         "2022-04-17",
         "UK",
         "True",
         "2022-04-17 07:08:00"
        ],
        [
         "4",
         "5",
         "25",
         "2022-03-13",
         "Kenya",
         "False",
         "2022-03-13 23:06:00"
        ]
       ],
       "shape": {
        "columns": 6,
        "rows": 5
       }
      },
      "text/html": [
       "<div>\n",
       "<style scoped>\n",
       "    .dataframe tbody tr th:only-of-type {\n",
       "        vertical-align: middle;\n",
       "    }\n",
       "\n",
       "    .dataframe tbody tr th {\n",
       "        vertical-align: top;\n",
       "    }\n",
       "\n",
       "    .dataframe thead th {\n",
       "        text-align: right;\n",
       "    }\n",
       "</style>\n",
       "<table border=\"1\" class=\"dataframe\">\n",
       "  <thead>\n",
       "    <tr style=\"text-align: right;\">\n",
       "      <th></th>\n",
       "      <th>user_id</th>\n",
       "      <th>age</th>\n",
       "      <th>signup_date</th>\n",
       "      <th>country</th>\n",
       "      <th>is_active</th>\n",
       "      <th>last_updated</th>\n",
       "    </tr>\n",
       "  </thead>\n",
       "  <tbody>\n",
       "    <tr>\n",
       "      <th>0</th>\n",
       "      <td>1</td>\n",
       "      <td>25</td>\n",
       "      <td>2022-04-13</td>\n",
       "      <td>Cameroon</td>\n",
       "      <td>False</td>\n",
       "      <td>2022-04-13 20:07:00</td>\n",
       "    </tr>\n",
       "    <tr>\n",
       "      <th>1</th>\n",
       "      <td>2</td>\n",
       "      <td>41</td>\n",
       "      <td>2022-12-15</td>\n",
       "      <td>USA</td>\n",
       "      <td>False</td>\n",
       "      <td>2022-12-15 00:47:00</td>\n",
       "    </tr>\n",
       "    <tr>\n",
       "      <th>2</th>\n",
       "      <td>3</td>\n",
       "      <td>28</td>\n",
       "      <td>2022-09-28</td>\n",
       "      <td>Kenya</td>\n",
       "      <td>False</td>\n",
       "      <td>2022-09-28 08:15:00</td>\n",
       "    </tr>\n",
       "    <tr>\n",
       "      <th>3</th>\n",
       "      <td>4</td>\n",
       "      <td>34</td>\n",
       "      <td>2022-04-17</td>\n",
       "      <td>UK</td>\n",
       "      <td>True</td>\n",
       "      <td>2022-04-17 07:08:00</td>\n",
       "    </tr>\n",
       "    <tr>\n",
       "      <th>4</th>\n",
       "      <td>5</td>\n",
       "      <td>25</td>\n",
       "      <td>2022-03-13</td>\n",
       "      <td>Kenya</td>\n",
       "      <td>False</td>\n",
       "      <td>2022-03-13 23:06:00</td>\n",
       "    </tr>\n",
       "  </tbody>\n",
       "</table>\n",
       "</div>"
      ],
      "text/plain": [
       "   user_id  age signup_date   country  is_active        last_updated\n",
       "0        1   25  2022-04-13  Cameroon      False 2022-04-13 20:07:00\n",
       "1        2   41  2022-12-15       USA      False 2022-12-15 00:47:00\n",
       "2        3   28  2022-09-28     Kenya      False 2022-09-28 08:15:00\n",
       "3        4   34  2022-04-17        UK       True 2022-04-17 07:08:00\n",
       "4        5   25  2022-03-13     Kenya      False 2022-03-13 23:06:00"
      ]
     },
     "execution_count": 6,
     "metadata": {},
     "output_type": "execute_result"
    }
   ],
   "source": [
    "df_full = pd.read_csv(\"user_data_large.csv\", parse_dates=[\"last_updated\"])\n",
    "print(f\"Pulled {len(df_full)} rows via full extraction.\")\n",
    "df_full.head()"
   ]
  },
  {
   "cell_type": "code",
   "execution_count": 7,
   "id": "674d7b91",
   "metadata": {},
   "outputs": [
    {
     "name": "stdout",
     "output_type": "stream",
     "text": [
      "Initial extraction checkpoint set to: 2022-07-02 21:47:00\n"
     ]
    }
   ],
   "source": [
    "# Find the minimum and maximum of 'last_updated'\n",
    "min_time = df_full['last_updated'].min()\n",
    "max_time = df_full['last_updated'].max()\n",
    "\n",
    "# Set initial checkpoint to halfway between min and max\n",
    "initial_checkpoint = min_time + (max_time - min_time) / 2\n",
    "\n",
    "# Save it to a file\n",
    "with open(\"last_extraction.txt\", \"w\") as f:\n",
    "    f.write(initial_checkpoint.isoformat())\n",
    "\n",
    "print(f\"Initial extraction checkpoint set to: {initial_checkpoint}\")\n"
   ]
  },
  {
   "cell_type": "markdown",
   "id": "2866091f",
   "metadata": {},
   "source": [
    "## Performing incremental Extraction"
   ]
  },
  {
   "cell_type": "code",
   "execution_count": 8,
   "id": "c89bfa06",
   "metadata": {},
   "outputs": [
    {
     "name": "stdout",
     "output_type": "stream",
     "text": [
      "Pulled 58 new/updated rows since 2022-07-02T21:47:00.\n"
     ]
    },
    {
     "data": {
      "application/vnd.microsoft.datawrangler.viewer.v0+json": {
       "columns": [
        {
         "name": "index",
         "rawType": "int64",
         "type": "integer"
        },
        {
         "name": "user_id",
         "rawType": "int64",
         "type": "integer"
        },
        {
         "name": "age",
         "rawType": "int64",
         "type": "integer"
        },
        {
         "name": "signup_date",
         "rawType": "object",
         "type": "string"
        },
        {
         "name": "country",
         "rawType": "object",
         "type": "string"
        },
        {
         "name": "is_active",
         "rawType": "bool",
         "type": "boolean"
        },
        {
         "name": "last_updated",
         "rawType": "datetime64[ns]",
         "type": "datetime"
        }
       ],
       "ref": "34b595cc-3756-47c2-ba0a-1696bcc63596",
       "rows": [
        [
         "1",
         "2",
         "41",
         "2022-12-15",
         "USA",
         "False",
         "2022-12-15 00:47:00"
        ],
        [
         "2",
         "3",
         "28",
         "2022-09-28",
         "Kenya",
         "False",
         "2022-09-28 08:15:00"
        ],
        [
         "5",
         "6",
         "52",
         "2022-07-08",
         "Kenya",
         "False",
         "2022-07-08 21:47:00"
        ],
        [
         "9",
         "10",
         "59",
         "2022-08-03",
         "Kenya",
         "False",
         "2022-08-03 02:13:00"
        ],
        [
         "10",
         "11",
         "56",
         "2022-11-27",
         "UK",
         "False",
         "2022-11-27 07:32:00"
        ]
       ],
       "shape": {
        "columns": 6,
        "rows": 5
       }
      },
      "text/html": [
       "<div>\n",
       "<style scoped>\n",
       "    .dataframe tbody tr th:only-of-type {\n",
       "        vertical-align: middle;\n",
       "    }\n",
       "\n",
       "    .dataframe tbody tr th {\n",
       "        vertical-align: top;\n",
       "    }\n",
       "\n",
       "    .dataframe thead th {\n",
       "        text-align: right;\n",
       "    }\n",
       "</style>\n",
       "<table border=\"1\" class=\"dataframe\">\n",
       "  <thead>\n",
       "    <tr style=\"text-align: right;\">\n",
       "      <th></th>\n",
       "      <th>user_id</th>\n",
       "      <th>age</th>\n",
       "      <th>signup_date</th>\n",
       "      <th>country</th>\n",
       "      <th>is_active</th>\n",
       "      <th>last_updated</th>\n",
       "    </tr>\n",
       "  </thead>\n",
       "  <tbody>\n",
       "    <tr>\n",
       "      <th>1</th>\n",
       "      <td>2</td>\n",
       "      <td>41</td>\n",
       "      <td>2022-12-15</td>\n",
       "      <td>USA</td>\n",
       "      <td>False</td>\n",
       "      <td>2022-12-15 00:47:00</td>\n",
       "    </tr>\n",
       "    <tr>\n",
       "      <th>2</th>\n",
       "      <td>3</td>\n",
       "      <td>28</td>\n",
       "      <td>2022-09-28</td>\n",
       "      <td>Kenya</td>\n",
       "      <td>False</td>\n",
       "      <td>2022-09-28 08:15:00</td>\n",
       "    </tr>\n",
       "    <tr>\n",
       "      <th>5</th>\n",
       "      <td>6</td>\n",
       "      <td>52</td>\n",
       "      <td>2022-07-08</td>\n",
       "      <td>Kenya</td>\n",
       "      <td>False</td>\n",
       "      <td>2022-07-08 21:47:00</td>\n",
       "    </tr>\n",
       "    <tr>\n",
       "      <th>9</th>\n",
       "      <td>10</td>\n",
       "      <td>59</td>\n",
       "      <td>2022-08-03</td>\n",
       "      <td>Kenya</td>\n",
       "      <td>False</td>\n",
       "      <td>2022-08-03 02:13:00</td>\n",
       "    </tr>\n",
       "    <tr>\n",
       "      <th>10</th>\n",
       "      <td>11</td>\n",
       "      <td>56</td>\n",
       "      <td>2022-11-27</td>\n",
       "      <td>UK</td>\n",
       "      <td>False</td>\n",
       "      <td>2022-11-27 07:32:00</td>\n",
       "    </tr>\n",
       "  </tbody>\n",
       "</table>\n",
       "</div>"
      ],
      "text/plain": [
       "    user_id  age signup_date country  is_active        last_updated\n",
       "1         2   41  2022-12-15     USA      False 2022-12-15 00:47:00\n",
       "2         3   28  2022-09-28   Kenya      False 2022-09-28 08:15:00\n",
       "5         6   52  2022-07-08   Kenya      False 2022-07-08 21:47:00\n",
       "9        10   59  2022-08-03   Kenya      False 2022-08-03 02:13:00\n",
       "10       11   56  2022-11-27      UK      False 2022-11-27 07:32:00"
      ]
     },
     "execution_count": 8,
     "metadata": {},
     "output_type": "execute_result"
    }
   ],
   "source": [
    "# INCREMENTAL EXTRACTION\n",
    "with open(\"last_extraction.txt\", \"r\") as f:\n",
    "    last_extraction = f.read().strip()\n",
    "df = pd.read_csv(\"user_data_large.csv\", parse_dates=[\"last_updated\"])\n",
    "last_extraction_time = pd.to_datetime(last_extraction)\n",
    "df_incremental = df[df['last_updated'] > last_extraction_time]\n",
    "print(f\"Pulled {len(df_incremental)} new/updated rows since {last_extraction}.\")\n",
    "df_incremental.head()"
   ]
  },
  {
   "cell_type": "code",
   "execution_count": 9,
   "id": "e431355a",
   "metadata": {},
   "outputs": [
    {
     "name": "stdout",
     "output_type": "stream",
     "text": [
      "Updated last_extraction.txt to 2022-12-30 21:14:00\n"
     ]
    }
   ],
   "source": [
    "# Get the most recent update\n",
    "new_checkpoint = df['last_updated'].max()\n",
    "# Save it\n",
    "with open(\"last_extraction.txt\", \"w\") as f:\n",
    "    f.write(new_checkpoint.isoformat())\n",
    "print(f\"Updated last_extraction.txt to {new_checkpoint}\")"
   ]
  },
  {
   "cell_type": "markdown",
   "id": "ac256d88",
   "metadata": {},
   "source": [
    "## ETL Process: Transformation phase"
   ]
  },
  {
   "cell_type": "markdown",
   "id": "ab991fda",
   "metadata": {},
   "source": [
    "#### FULL TRANSTRANFORMATION"
   ]
  },
  {
   "cell_type": "code",
   "execution_count": 11,
   "id": "8d5bf287",
   "metadata": {},
   "outputs": [
    {
     "data": {
      "application/vnd.microsoft.datawrangler.viewer.v0+json": {
       "columns": [
        {
         "name": "index",
         "rawType": "int64",
         "type": "integer"
        },
        {
         "name": "user_id",
         "rawType": "int64",
         "type": "integer"
        },
        {
         "name": "age",
         "rawType": "int64",
         "type": "integer"
        },
        {
         "name": "signup_date",
         "rawType": "object",
         "type": "string"
        },
        {
         "name": "country",
         "rawType": "object",
         "type": "string"
        },
        {
         "name": "is_active",
         "rawType": "bool",
         "type": "boolean"
        },
        {
         "name": "last_updated",
         "rawType": "datetime64[ns]",
         "type": "datetime"
        }
       ],
       "ref": "691a990a-e118-4165-8e5a-82abd10dc25e",
       "rows": [
        [
         "0",
         "1",
         "25",
         "2022-04-13",
         "Cameroon",
         "False",
         "2022-04-13 20:07:00"
        ],
        [
         "1",
         "2",
         "41",
         "2022-12-15",
         "USA",
         "False",
         "2022-12-15 00:47:00"
        ],
        [
         "2",
         "3",
         "28",
         "2022-09-28",
         "Kenya",
         "False",
         "2022-09-28 08:15:00"
        ],
        [
         "3",
         "4",
         "34",
         "2022-04-17",
         "UK",
         "True",
         "2022-04-17 07:08:00"
        ],
        [
         "4",
         "5",
         "25",
         "2022-03-13",
         "Kenya",
         "False",
         "2022-03-13 23:06:00"
        ]
       ],
       "shape": {
        "columns": 6,
        "rows": 5
       }
      },
      "text/html": [
       "<div>\n",
       "<style scoped>\n",
       "    .dataframe tbody tr th:only-of-type {\n",
       "        vertical-align: middle;\n",
       "    }\n",
       "\n",
       "    .dataframe tbody tr th {\n",
       "        vertical-align: top;\n",
       "    }\n",
       "\n",
       "    .dataframe thead th {\n",
       "        text-align: right;\n",
       "    }\n",
       "</style>\n",
       "<table border=\"1\" class=\"dataframe\">\n",
       "  <thead>\n",
       "    <tr style=\"text-align: right;\">\n",
       "      <th></th>\n",
       "      <th>user_id</th>\n",
       "      <th>age</th>\n",
       "      <th>signup_date</th>\n",
       "      <th>country</th>\n",
       "      <th>is_active</th>\n",
       "      <th>last_updated</th>\n",
       "    </tr>\n",
       "  </thead>\n",
       "  <tbody>\n",
       "    <tr>\n",
       "      <th>0</th>\n",
       "      <td>1</td>\n",
       "      <td>25</td>\n",
       "      <td>2022-04-13</td>\n",
       "      <td>Cameroon</td>\n",
       "      <td>False</td>\n",
       "      <td>2022-04-13 20:07:00</td>\n",
       "    </tr>\n",
       "    <tr>\n",
       "      <th>1</th>\n",
       "      <td>2</td>\n",
       "      <td>41</td>\n",
       "      <td>2022-12-15</td>\n",
       "      <td>USA</td>\n",
       "      <td>False</td>\n",
       "      <td>2022-12-15 00:47:00</td>\n",
       "    </tr>\n",
       "    <tr>\n",
       "      <th>2</th>\n",
       "      <td>3</td>\n",
       "      <td>28</td>\n",
       "      <td>2022-09-28</td>\n",
       "      <td>Kenya</td>\n",
       "      <td>False</td>\n",
       "      <td>2022-09-28 08:15:00</td>\n",
       "    </tr>\n",
       "    <tr>\n",
       "      <th>3</th>\n",
       "      <td>4</td>\n",
       "      <td>34</td>\n",
       "      <td>2022-04-17</td>\n",
       "      <td>UK</td>\n",
       "      <td>True</td>\n",
       "      <td>2022-04-17 07:08:00</td>\n",
       "    </tr>\n",
       "    <tr>\n",
       "      <th>4</th>\n",
       "      <td>5</td>\n",
       "      <td>25</td>\n",
       "      <td>2022-03-13</td>\n",
       "      <td>Kenya</td>\n",
       "      <td>False</td>\n",
       "      <td>2022-03-13 23:06:00</td>\n",
       "    </tr>\n",
       "  </tbody>\n",
       "</table>\n",
       "</div>"
      ],
      "text/plain": [
       "   user_id  age signup_date   country  is_active        last_updated\n",
       "0        1   25  2022-04-13  Cameroon      False 2022-04-13 20:07:00\n",
       "1        2   41  2022-12-15       USA      False 2022-12-15 00:47:00\n",
       "2        3   28  2022-09-28     Kenya      False 2022-09-28 08:15:00\n",
       "3        4   34  2022-04-17        UK       True 2022-04-17 07:08:00\n",
       "4        5   25  2022-03-13     Kenya      False 2022-03-13 23:06:00"
      ]
     },
     "execution_count": 11,
     "metadata": {},
     "output_type": "execute_result"
    }
   ],
   "source": [
    "df_full.head()"
   ]
  },
  {
   "cell_type": "markdown",
   "id": "13e94423",
   "metadata": {},
   "source": [
    "Transformation 1: DATA CLEANING"
   ]
  },
  {
   "cell_type": "code",
   "execution_count": null,
   "id": "b623f32f",
   "metadata": {},
   "outputs": [],
   "source": [
    "#remove duplicates based on 'user_id', keeping the last occurrence\n",
    "df_full.drop_duplicates(subset=['user_id'], keep='last', inplace=True)"
   ]
  },
  {
   "cell_type": "code",
   "execution_count": 21,
   "id": "1a909258",
   "metadata": {},
   "outputs": [
    {
     "name": "stdout",
     "output_type": "stream",
     "text": [
      "Checking for null values in df_full:\n",
      "user_id         0\n",
      "age             0\n",
      "signup_date     0\n",
      "country         0\n",
      "is_active       0\n",
      "last_updated    0\n",
      "age_group       0\n",
      "dtype: int64\n"
     ]
    }
   ],
   "source": [
    "#checking for null values in df_full\n",
    "print(\"Checking for null values in df_full:\")\n",
    "print(df_full.isnull().sum())"
   ]
  },
  {
   "cell_type": "code",
   "execution_count": 22,
   "id": "0f134e5e",
   "metadata": {},
   "outputs": [
    {
     "name": "stdout",
     "output_type": "stream",
     "text": [
      "No duplicate user_ids found in df_full.\n",
      "No null values found in df_full.\n"
     ]
    }
   ],
   "source": [
    "print(\"No duplicate user_ids found in df_full.\")\n",
    "print(\"No null values found in df_full.\")"
   ]
  },
  {
   "cell_type": "markdown",
   "id": "ab700e3b",
   "metadata": {},
   "source": [
    "Transformation 2: Categorization into different age bins"
   ]
  },
  {
   "cell_type": "code",
   "execution_count": 15,
   "id": "68337e0a",
   "metadata": {},
   "outputs": [
    {
     "data": {
      "application/vnd.microsoft.datawrangler.viewer.v0+json": {
       "columns": [
        {
         "name": "index",
         "rawType": "int64",
         "type": "integer"
        },
        {
         "name": "user_id",
         "rawType": "int64",
         "type": "integer"
        },
        {
         "name": "age",
         "rawType": "int64",
         "type": "integer"
        },
        {
         "name": "signup_date",
         "rawType": "object",
         "type": "string"
        },
        {
         "name": "country",
         "rawType": "object",
         "type": "string"
        },
        {
         "name": "is_active",
         "rawType": "bool",
         "type": "boolean"
        },
        {
         "name": "last_updated",
         "rawType": "datetime64[ns]",
         "type": "datetime"
        },
        {
         "name": "age_group",
         "rawType": "category",
         "type": "unknown"
        }
       ],
       "ref": "900096bc-6905-4629-9be3-3efa43257ffb",
       "rows": [
        [
         "0",
         "1",
         "25",
         "2022-04-13",
         "Cameroon",
         "False",
         "2022-04-13 20:07:00",
         "18-25"
        ],
        [
         "1",
         "2",
         "41",
         "2022-12-15",
         "USA",
         "False",
         "2022-12-15 00:47:00",
         "36-50"
        ],
        [
         "2",
         "3",
         "28",
         "2022-09-28",
         "Kenya",
         "False",
         "2022-09-28 08:15:00",
         "26-35"
        ],
        [
         "3",
         "4",
         "34",
         "2022-04-17",
         "UK",
         "True",
         "2022-04-17 07:08:00",
         "26-35"
        ],
        [
         "4",
         "5",
         "25",
         "2022-03-13",
         "Kenya",
         "False",
         "2022-03-13 23:06:00",
         "18-25"
        ]
       ],
       "shape": {
        "columns": 7,
        "rows": 5
       }
      },
      "text/html": [
       "<div>\n",
       "<style scoped>\n",
       "    .dataframe tbody tr th:only-of-type {\n",
       "        vertical-align: middle;\n",
       "    }\n",
       "\n",
       "    .dataframe tbody tr th {\n",
       "        vertical-align: top;\n",
       "    }\n",
       "\n",
       "    .dataframe thead th {\n",
       "        text-align: right;\n",
       "    }\n",
       "</style>\n",
       "<table border=\"1\" class=\"dataframe\">\n",
       "  <thead>\n",
       "    <tr style=\"text-align: right;\">\n",
       "      <th></th>\n",
       "      <th>user_id</th>\n",
       "      <th>age</th>\n",
       "      <th>signup_date</th>\n",
       "      <th>country</th>\n",
       "      <th>is_active</th>\n",
       "      <th>last_updated</th>\n",
       "      <th>age_group</th>\n",
       "    </tr>\n",
       "  </thead>\n",
       "  <tbody>\n",
       "    <tr>\n",
       "      <th>0</th>\n",
       "      <td>1</td>\n",
       "      <td>25</td>\n",
       "      <td>2022-04-13</td>\n",
       "      <td>Cameroon</td>\n",
       "      <td>False</td>\n",
       "      <td>2022-04-13 20:07:00</td>\n",
       "      <td>18-25</td>\n",
       "    </tr>\n",
       "    <tr>\n",
       "      <th>1</th>\n",
       "      <td>2</td>\n",
       "      <td>41</td>\n",
       "      <td>2022-12-15</td>\n",
       "      <td>USA</td>\n",
       "      <td>False</td>\n",
       "      <td>2022-12-15 00:47:00</td>\n",
       "      <td>36-50</td>\n",
       "    </tr>\n",
       "    <tr>\n",
       "      <th>2</th>\n",
       "      <td>3</td>\n",
       "      <td>28</td>\n",
       "      <td>2022-09-28</td>\n",
       "      <td>Kenya</td>\n",
       "      <td>False</td>\n",
       "      <td>2022-09-28 08:15:00</td>\n",
       "      <td>26-35</td>\n",
       "    </tr>\n",
       "    <tr>\n",
       "      <th>3</th>\n",
       "      <td>4</td>\n",
       "      <td>34</td>\n",
       "      <td>2022-04-17</td>\n",
       "      <td>UK</td>\n",
       "      <td>True</td>\n",
       "      <td>2022-04-17 07:08:00</td>\n",
       "      <td>26-35</td>\n",
       "    </tr>\n",
       "    <tr>\n",
       "      <th>4</th>\n",
       "      <td>5</td>\n",
       "      <td>25</td>\n",
       "      <td>2022-03-13</td>\n",
       "      <td>Kenya</td>\n",
       "      <td>False</td>\n",
       "      <td>2022-03-13 23:06:00</td>\n",
       "      <td>18-25</td>\n",
       "    </tr>\n",
       "  </tbody>\n",
       "</table>\n",
       "</div>"
      ],
      "text/plain": [
       "   user_id  age signup_date   country  is_active        last_updated age_group\n",
       "0        1   25  2022-04-13  Cameroon      False 2022-04-13 20:07:00     18-25\n",
       "1        2   41  2022-12-15       USA      False 2022-12-15 00:47:00     36-50\n",
       "2        3   28  2022-09-28     Kenya      False 2022-09-28 08:15:00     26-35\n",
       "3        4   34  2022-04-17        UK       True 2022-04-17 07:08:00     26-35\n",
       "4        5   25  2022-03-13     Kenya      False 2022-03-13 23:06:00     18-25"
      ]
     },
     "execution_count": 15,
     "metadata": {},
     "output_type": "execute_result"
    }
   ],
   "source": [
    "df_full['age_group'] = pd.cut(df_full['age'],\n",
    "                              bins=[17, 25, 35, 50, 60],\n",
    "                              labels=['18-25', '26-35', '36-50', '51-60'])\n",
    "df_full.head()"
   ]
  },
  {
   "cell_type": "markdown",
   "id": "1a0f9378",
   "metadata": {},
   "source": [
    "Transformation 3: Structural e.g changing data types and standardizing date format"
   ]
  },
  {
   "cell_type": "code",
   "execution_count": 16,
   "id": "ca0621b8",
   "metadata": {},
   "outputs": [
    {
     "name": "stdout",
     "output_type": "stream",
     "text": [
      "Data types in df_full:\n",
      "user_id                  int64\n",
      "age                      int64\n",
      "signup_date             object\n",
      "country                 object\n",
      "is_active                 bool\n",
      "last_updated    datetime64[ns]\n",
      "age_group             category\n",
      "dtype: object\n"
     ]
    }
   ],
   "source": [
    "#checking for data types in df_full\n",
    "print(\"Data types in df_full:\")\n",
    "print(df_full.dtypes)\n"
   ]
  },
  {
   "cell_type": "code",
   "execution_count": 18,
   "id": "c8a61ca3",
   "metadata": {},
   "outputs": [],
   "source": [
    "#change user_id to string\n",
    "df_full['user_id'] = df_full['user_id'].astype(str)\n",
    "\n",
    "#change signup_date and last_updated to datetime\n",
    "df_full['signup_date'] = pd.to_datetime(df_full['signup_date']).dt.strftime('%Y-%m-%d %H:%M:%S')\n",
    "df_full['last_updated'] = pd.to_datetime(df_full['last_updated']).dt.strftime('%Y-%m-%d %H:%M:%S')"
   ]
  },
  {
   "cell_type": "code",
   "execution_count": 19,
   "id": "1924a398",
   "metadata": {},
   "outputs": [
    {
     "name": "stdout",
     "output_type": "stream",
     "text": [
      "user_id           object\n",
      "age                int64\n",
      "signup_date       object\n",
      "country           object\n",
      "is_active           bool\n",
      "last_updated      object\n",
      "age_group       category\n",
      "dtype: object\n"
     ]
    }
   ],
   "source": [
    "print(df_full.dtypes)"
   ]
  },
  {
   "cell_type": "markdown",
   "id": "8bb13ea7",
   "metadata": {},
   "source": [
    "Saving the new transformed full data set to a csv file called \"transformed_full.csv\""
   ]
  },
  {
   "cell_type": "code",
   "execution_count": 24,
   "id": "88ebbd2d",
   "metadata": {},
   "outputs": [],
   "source": [
    "# save the final Dataframe to a new csv file called 'transformed_full.csv\n",
    "df_full.to_csv('transformed_full.csv', index=False)"
   ]
  },
  {
   "cell_type": "markdown",
   "id": "f677bf5b",
   "metadata": {},
   "source": [
    "## INCREMENTAL TRANSFORMATION"
   ]
  },
  {
   "cell_type": "code",
   "execution_count": 23,
   "id": "0bc48c65",
   "metadata": {},
   "outputs": [
    {
     "data": {
      "application/vnd.microsoft.datawrangler.viewer.v0+json": {
       "columns": [
        {
         "name": "index",
         "rawType": "int64",
         "type": "integer"
        },
        {
         "name": "user_id",
         "rawType": "int64",
         "type": "integer"
        },
        {
         "name": "age",
         "rawType": "int64",
         "type": "integer"
        },
        {
         "name": "signup_date",
         "rawType": "object",
         "type": "string"
        },
        {
         "name": "country",
         "rawType": "object",
         "type": "string"
        },
        {
         "name": "is_active",
         "rawType": "bool",
         "type": "boolean"
        },
        {
         "name": "last_updated",
         "rawType": "datetime64[ns]",
         "type": "datetime"
        }
       ],
       "ref": "99b33071-e5d8-46e2-9afa-432d3dfbe599",
       "rows": [
        [
         "1",
         "2",
         "41",
         "2022-12-15",
         "USA",
         "False",
         "2022-12-15 00:47:00"
        ],
        [
         "2",
         "3",
         "28",
         "2022-09-28",
         "Kenya",
         "False",
         "2022-09-28 08:15:00"
        ],
        [
         "5",
         "6",
         "52",
         "2022-07-08",
         "Kenya",
         "False",
         "2022-07-08 21:47:00"
        ],
        [
         "9",
         "10",
         "59",
         "2022-08-03",
         "Kenya",
         "False",
         "2022-08-03 02:13:00"
        ],
        [
         "10",
         "11",
         "56",
         "2022-11-27",
         "UK",
         "False",
         "2022-11-27 07:32:00"
        ]
       ],
       "shape": {
        "columns": 6,
        "rows": 5
       }
      },
      "text/html": [
       "<div>\n",
       "<style scoped>\n",
       "    .dataframe tbody tr th:only-of-type {\n",
       "        vertical-align: middle;\n",
       "    }\n",
       "\n",
       "    .dataframe tbody tr th {\n",
       "        vertical-align: top;\n",
       "    }\n",
       "\n",
       "    .dataframe thead th {\n",
       "        text-align: right;\n",
       "    }\n",
       "</style>\n",
       "<table border=\"1\" class=\"dataframe\">\n",
       "  <thead>\n",
       "    <tr style=\"text-align: right;\">\n",
       "      <th></th>\n",
       "      <th>user_id</th>\n",
       "      <th>age</th>\n",
       "      <th>signup_date</th>\n",
       "      <th>country</th>\n",
       "      <th>is_active</th>\n",
       "      <th>last_updated</th>\n",
       "    </tr>\n",
       "  </thead>\n",
       "  <tbody>\n",
       "    <tr>\n",
       "      <th>1</th>\n",
       "      <td>2</td>\n",
       "      <td>41</td>\n",
       "      <td>2022-12-15</td>\n",
       "      <td>USA</td>\n",
       "      <td>False</td>\n",
       "      <td>2022-12-15 00:47:00</td>\n",
       "    </tr>\n",
       "    <tr>\n",
       "      <th>2</th>\n",
       "      <td>3</td>\n",
       "      <td>28</td>\n",
       "      <td>2022-09-28</td>\n",
       "      <td>Kenya</td>\n",
       "      <td>False</td>\n",
       "      <td>2022-09-28 08:15:00</td>\n",
       "    </tr>\n",
       "    <tr>\n",
       "      <th>5</th>\n",
       "      <td>6</td>\n",
       "      <td>52</td>\n",
       "      <td>2022-07-08</td>\n",
       "      <td>Kenya</td>\n",
       "      <td>False</td>\n",
       "      <td>2022-07-08 21:47:00</td>\n",
       "    </tr>\n",
       "    <tr>\n",
       "      <th>9</th>\n",
       "      <td>10</td>\n",
       "      <td>59</td>\n",
       "      <td>2022-08-03</td>\n",
       "      <td>Kenya</td>\n",
       "      <td>False</td>\n",
       "      <td>2022-08-03 02:13:00</td>\n",
       "    </tr>\n",
       "    <tr>\n",
       "      <th>10</th>\n",
       "      <td>11</td>\n",
       "      <td>56</td>\n",
       "      <td>2022-11-27</td>\n",
       "      <td>UK</td>\n",
       "      <td>False</td>\n",
       "      <td>2022-11-27 07:32:00</td>\n",
       "    </tr>\n",
       "  </tbody>\n",
       "</table>\n",
       "</div>"
      ],
      "text/plain": [
       "    user_id  age signup_date country  is_active        last_updated\n",
       "1         2   41  2022-12-15     USA      False 2022-12-15 00:47:00\n",
       "2         3   28  2022-09-28   Kenya      False 2022-09-28 08:15:00\n",
       "5         6   52  2022-07-08   Kenya      False 2022-07-08 21:47:00\n",
       "9        10   59  2022-08-03   Kenya      False 2022-08-03 02:13:00\n",
       "10       11   56  2022-11-27      UK      False 2022-11-27 07:32:00"
      ]
     },
     "execution_count": 23,
     "metadata": {},
     "output_type": "execute_result"
    }
   ],
   "source": [
    "df_incremental.head()"
   ]
  },
  {
   "cell_type": "markdown",
   "id": "388a265d",
   "metadata": {},
   "source": [
    "Transformation 1: DATA CLEANING"
   ]
  },
  {
   "cell_type": "code",
   "execution_count": 27,
   "id": "75933edd",
   "metadata": {},
   "outputs": [],
   "source": [
    "#remove duplicates based on 'user_id'\n",
    "df_incremental=df_incremental.drop_duplicates()\n",
    "\n"
   ]
  },
  {
   "cell_type": "code",
   "execution_count": 28,
   "id": "ae832fdf",
   "metadata": {},
   "outputs": [
    {
     "name": "stdout",
     "output_type": "stream",
     "text": [
      "Checking for null values in df_incremental:\n",
      "user_id         0\n",
      "age             0\n",
      "signup_date     0\n",
      "country         0\n",
      "is_active       0\n",
      "last_updated    0\n",
      "dtype: int64\n"
     ]
    }
   ],
   "source": [
    "#checking for null values in df_incremental\n",
    "print(\"Checking for null values in df_incremental:\")\n",
    "print(df_incremental.isnull().sum())"
   ]
  },
  {
   "cell_type": "code",
   "execution_count": 29,
   "id": "efa5db41",
   "metadata": {},
   "outputs": [
    {
     "name": "stdout",
     "output_type": "stream",
     "text": [
      "No duplicate user_ids found in df_incremental.\n",
      "No null values found in df_incremental.\n"
     ]
    }
   ],
   "source": [
    "print(\"No duplicate user_ids found in df_incremental.\")\n",
    "print(\"No null values found in df_incremental.\")"
   ]
  },
  {
   "cell_type": "markdown",
   "id": "9890d8fb",
   "metadata": {},
   "source": [
    "Transformation 2: Categorization into different age bins"
   ]
  },
  {
   "cell_type": "code",
   "execution_count": 30,
   "id": "d5d5c8bd",
   "metadata": {},
   "outputs": [
    {
     "data": {
      "application/vnd.microsoft.datawrangler.viewer.v0+json": {
       "columns": [
        {
         "name": "index",
         "rawType": "int64",
         "type": "integer"
        },
        {
         "name": "user_id",
         "rawType": "int64",
         "type": "integer"
        },
        {
         "name": "age",
         "rawType": "int64",
         "type": "integer"
        },
        {
         "name": "signup_date",
         "rawType": "object",
         "type": "string"
        },
        {
         "name": "country",
         "rawType": "object",
         "type": "string"
        },
        {
         "name": "is_active",
         "rawType": "bool",
         "type": "boolean"
        },
        {
         "name": "last_updated",
         "rawType": "datetime64[ns]",
         "type": "datetime"
        },
        {
         "name": "age_group",
         "rawType": "category",
         "type": "unknown"
        }
       ],
       "ref": "4e6abcfe-8879-43c2-8399-cffd76ebd502",
       "rows": [
        [
         "1",
         "2",
         "41",
         "2022-12-15",
         "USA",
         "False",
         "2022-12-15 00:47:00",
         "36-50"
        ],
        [
         "2",
         "3",
         "28",
         "2022-09-28",
         "Kenya",
         "False",
         "2022-09-28 08:15:00",
         "26-35"
        ],
        [
         "5",
         "6",
         "52",
         "2022-07-08",
         "Kenya",
         "False",
         "2022-07-08 21:47:00",
         "51-60"
        ],
        [
         "9",
         "10",
         "59",
         "2022-08-03",
         "Kenya",
         "False",
         "2022-08-03 02:13:00",
         "51-60"
        ],
        [
         "10",
         "11",
         "56",
         "2022-11-27",
         "UK",
         "False",
         "2022-11-27 07:32:00",
         "51-60"
        ]
       ],
       "shape": {
        "columns": 7,
        "rows": 5
       }
      },
      "text/html": [
       "<div>\n",
       "<style scoped>\n",
       "    .dataframe tbody tr th:only-of-type {\n",
       "        vertical-align: middle;\n",
       "    }\n",
       "\n",
       "    .dataframe tbody tr th {\n",
       "        vertical-align: top;\n",
       "    }\n",
       "\n",
       "    .dataframe thead th {\n",
       "        text-align: right;\n",
       "    }\n",
       "</style>\n",
       "<table border=\"1\" class=\"dataframe\">\n",
       "  <thead>\n",
       "    <tr style=\"text-align: right;\">\n",
       "      <th></th>\n",
       "      <th>user_id</th>\n",
       "      <th>age</th>\n",
       "      <th>signup_date</th>\n",
       "      <th>country</th>\n",
       "      <th>is_active</th>\n",
       "      <th>last_updated</th>\n",
       "      <th>age_group</th>\n",
       "    </tr>\n",
       "  </thead>\n",
       "  <tbody>\n",
       "    <tr>\n",
       "      <th>1</th>\n",
       "      <td>2</td>\n",
       "      <td>41</td>\n",
       "      <td>2022-12-15</td>\n",
       "      <td>USA</td>\n",
       "      <td>False</td>\n",
       "      <td>2022-12-15 00:47:00</td>\n",
       "      <td>36-50</td>\n",
       "    </tr>\n",
       "    <tr>\n",
       "      <th>2</th>\n",
       "      <td>3</td>\n",
       "      <td>28</td>\n",
       "      <td>2022-09-28</td>\n",
       "      <td>Kenya</td>\n",
       "      <td>False</td>\n",
       "      <td>2022-09-28 08:15:00</td>\n",
       "      <td>26-35</td>\n",
       "    </tr>\n",
       "    <tr>\n",
       "      <th>5</th>\n",
       "      <td>6</td>\n",
       "      <td>52</td>\n",
       "      <td>2022-07-08</td>\n",
       "      <td>Kenya</td>\n",
       "      <td>False</td>\n",
       "      <td>2022-07-08 21:47:00</td>\n",
       "      <td>51-60</td>\n",
       "    </tr>\n",
       "    <tr>\n",
       "      <th>9</th>\n",
       "      <td>10</td>\n",
       "      <td>59</td>\n",
       "      <td>2022-08-03</td>\n",
       "      <td>Kenya</td>\n",
       "      <td>False</td>\n",
       "      <td>2022-08-03 02:13:00</td>\n",
       "      <td>51-60</td>\n",
       "    </tr>\n",
       "    <tr>\n",
       "      <th>10</th>\n",
       "      <td>11</td>\n",
       "      <td>56</td>\n",
       "      <td>2022-11-27</td>\n",
       "      <td>UK</td>\n",
       "      <td>False</td>\n",
       "      <td>2022-11-27 07:32:00</td>\n",
       "      <td>51-60</td>\n",
       "    </tr>\n",
       "  </tbody>\n",
       "</table>\n",
       "</div>"
      ],
      "text/plain": [
       "    user_id  age signup_date country  is_active        last_updated age_group\n",
       "1         2   41  2022-12-15     USA      False 2022-12-15 00:47:00     36-50\n",
       "2         3   28  2022-09-28   Kenya      False 2022-09-28 08:15:00     26-35\n",
       "5         6   52  2022-07-08   Kenya      False 2022-07-08 21:47:00     51-60\n",
       "9        10   59  2022-08-03   Kenya      False 2022-08-03 02:13:00     51-60\n",
       "10       11   56  2022-11-27      UK      False 2022-11-27 07:32:00     51-60"
      ]
     },
     "execution_count": 30,
     "metadata": {},
     "output_type": "execute_result"
    }
   ],
   "source": [
    "df_incremental['age_group'] = pd.cut(df_incremental['age'],\n",
    "                              bins=[17, 25, 35, 50, 60],\n",
    "                              labels=['18-25', '26-35', '36-50', '51-60'])\n",
    "df_incremental.head()"
   ]
  },
  {
   "cell_type": "markdown",
   "id": "e3ad9262",
   "metadata": {},
   "source": [
    "Transformation 3: Structural e.g changing data types and standardizing date format"
   ]
  },
  {
   "cell_type": "code",
   "execution_count": 32,
   "id": "1295db59",
   "metadata": {},
   "outputs": [
    {
     "name": "stdout",
     "output_type": "stream",
     "text": [
      "Data types in df_incremental:\n",
      "user_id                  int64\n",
      "age                      int64\n",
      "signup_date             object\n",
      "country                 object\n",
      "is_active                 bool\n",
      "last_updated    datetime64[ns]\n",
      "age_group             category\n",
      "dtype: object\n"
     ]
    }
   ],
   "source": [
    "#checking for data types in df_incremental\n",
    "print(\"Data types in df_incremental:\")\n",
    "print(df_incremental.dtypes)\n"
   ]
  },
  {
   "cell_type": "code",
   "execution_count": 33,
   "id": "808030fd",
   "metadata": {},
   "outputs": [],
   "source": [
    "#change user_id to string\n",
    "df_incremental['user_id'] = df_incremental['user_id'].astype(str)\n",
    "\n",
    "#change signup_date and last_updated to datetime\n",
    "df_incremental['signup_date'] = pd.to_datetime(df_incremental['signup_date']).dt.strftime('%Y-%m-%d %H:%M:%S')\n",
    "df_incremental['last_updated'] = pd.to_datetime(df_incremental['last_updated']).dt.strftime('%Y-%m-%d %H:%M:%S')"
   ]
  },
  {
   "cell_type": "code",
   "execution_count": 34,
   "id": "1e1c8f20",
   "metadata": {},
   "outputs": [
    {
     "name": "stdout",
     "output_type": "stream",
     "text": [
      "user_id           object\n",
      "age                int64\n",
      "signup_date       object\n",
      "country           object\n",
      "is_active           bool\n",
      "last_updated      object\n",
      "age_group       category\n",
      "dtype: object\n"
     ]
    }
   ],
   "source": [
    "print(df_incremental.dtypes)"
   ]
  },
  {
   "cell_type": "markdown",
   "id": "1b5178c7",
   "metadata": {},
   "source": [
    "Saving the new transformed incremental data set to a csv file called \"transformed_incremental.csv\""
   ]
  },
  {
   "cell_type": "code",
   "execution_count": 35,
   "id": "da018025",
   "metadata": {},
   "outputs": [],
   "source": [
    "df_incremental.to_csv('transformed_incremental.csv', index=False)"
   ]
  }
 ],
 "metadata": {
  "kernelspec": {
   "display_name": "Python 3",
   "language": "python",
   "name": "python3"
  },
  "language_info": {
   "codemirror_mode": {
    "name": "ipython",
    "version": 3
   },
   "file_extension": ".py",
   "mimetype": "text/x-python",
   "name": "python",
   "nbconvert_exporter": "python",
   "pygments_lexer": "ipython3",
   "version": "3.12.0"
  }
 },
 "nbformat": 4,
 "nbformat_minor": 5
}
