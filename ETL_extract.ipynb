{
 "cells": [
  {
   "cell_type": "code",
   "execution_count": 21,
   "id": "7ad38476",
   "metadata": {},
   "outputs": [],
   "source": [
    "import pandas as pd\n",
    "import numpy as np\n",
    "from datetime import datetime, timedelta\n",
    "import random"
   ]
  },
  {
   "cell_type": "code",
   "execution_count": 22,
   "id": "4b56c81d",
   "metadata": {},
   "outputs": [
    {
     "name": "stdout",
     "output_type": "stream",
     "text": [
      "Extracted User data (first 5 rows):\n",
      "   user_id  age signup_date   country  is_active         last_updated\n",
      "0        1   25  2022-04-13  Cameroon      False  2022-04-13T20:07:00\n",
      "1        2   41  2022-12-15       USA      False  2022-12-15T00:47:00\n",
      "2        3   28  2022-09-28     Kenya      False  2022-09-28T08:15:00\n",
      "3        4   34  2022-04-17        UK       True  2022-04-17T07:08:00\n",
      "4        5   25  2022-03-13     Kenya      False  2022-03-13T23:06:00\n"
     ]
    }
   ],
   "source": [
    "\n",
    "# Simulate extracted data\n",
    "np.random.seed(42)\n",
    "random.seed(42)  # for reproducibility\n",
    "num_records = 100\n",
    "\n",
    "# Generate signup dates\n",
    "signup_dates = pd.to_datetime('2022-01-01') + pd.to_timedelta(np.random.randint(0, 365, size=num_records), unit='D')\n",
    "\n",
    "# Create user data DataFrame\n",
    "user_data = pd.DataFrame({\n",
    "    'user_id': np.arange(1, num_records + 1),\n",
    "    'age': np.random.randint(18, 60, size=num_records),\n",
    "    'signup_date': signup_dates,\n",
    "    'country': np.random.choice(['Kenya', 'Cameroon', 'USA', 'UK'], size=num_records),\n",
    "    'is_active': np.random.choice([True, False], size=num_records),\n",
    "})\n",
    "\n",
    "# Generate last_updated timestamps\n",
    "user_data['last_updated'] = [\n",
    "    (signup + timedelta(hours=random.randint(0, 23), minutes=random.randint(0, 59))).isoformat()\n",
    "    for signup in signup_dates\n",
    "]\n",
    "\n",
    "print(\"Extracted User data (first 5 rows):\")\n",
    "print(user_data.head())\n"
   ]
  },
  {
   "cell_type": "code",
   "execution_count": 23,
   "id": "ccd93f3f",
   "metadata": {},
   "outputs": [
    {
     "data": {
      "text/plain": [
       "(100, 6)"
      ]
     },
     "execution_count": 23,
     "metadata": {},
     "output_type": "execute_result"
    }
   ],
   "source": [
    "user_data.shape"
   ]
  },
  {
   "cell_type": "code",
   "execution_count": 24,
   "id": "465a2075",
   "metadata": {},
   "outputs": [],
   "source": [
    "user_data.to_csv('user_data_large.csv', index=False)\n",
    "\n"
   ]
  },
  {
   "cell_type": "code",
   "execution_count": 25,
   "id": "b6c6c789",
   "metadata": {},
   "outputs": [
    {
     "name": "stdout",
     "output_type": "stream",
     "text": [
      "Pulled 100 rows via full extraction.\n"
     ]
    },
    {
     "data": {
      "application/vnd.microsoft.datawrangler.viewer.v0+json": {
       "columns": [
        {
         "name": "index",
         "rawType": "int64",
         "type": "integer"
        },
        {
         "name": "user_id",
         "rawType": "int64",
         "type": "integer"
        },
        {
         "name": "age",
         "rawType": "int64",
         "type": "integer"
        },
        {
         "name": "signup_date",
         "rawType": "object",
         "type": "string"
        },
        {
         "name": "country",
         "rawType": "object",
         "type": "string"
        },
        {
         "name": "is_active",
         "rawType": "bool",
         "type": "boolean"
        },
        {
         "name": "last_updated",
         "rawType": "datetime64[ns]",
         "type": "datetime"
        }
       ],
       "ref": "bbb9ab73-5edc-4484-8a48-5e23d443c245",
       "rows": [
        [
         "0",
         "1",
         "25",
         "2022-04-13",
         "Cameroon",
         "False",
         "2022-04-13 20:07:00"
        ],
        [
         "1",
         "2",
         "41",
         "2022-12-15",
         "USA",
         "False",
         "2022-12-15 00:47:00"
        ],
        [
         "2",
         "3",
         "28",
         "2022-09-28",
         "Kenya",
         "False",
         "2022-09-28 08:15:00"
        ],
        [
         "3",
         "4",
         "34",
         "2022-04-17",
         "UK",
         "True",
         "2022-04-17 07:08:00"
        ],
        [
         "4",
         "5",
         "25",
         "2022-03-13",
         "Kenya",
         "False",
         "2022-03-13 23:06:00"
        ]
       ],
       "shape": {
        "columns": 6,
        "rows": 5
       }
      },
      "text/html": [
       "<div>\n",
       "<style scoped>\n",
       "    .dataframe tbody tr th:only-of-type {\n",
       "        vertical-align: middle;\n",
       "    }\n",
       "\n",
       "    .dataframe tbody tr th {\n",
       "        vertical-align: top;\n",
       "    }\n",
       "\n",
       "    .dataframe thead th {\n",
       "        text-align: right;\n",
       "    }\n",
       "</style>\n",
       "<table border=\"1\" class=\"dataframe\">\n",
       "  <thead>\n",
       "    <tr style=\"text-align: right;\">\n",
       "      <th></th>\n",
       "      <th>user_id</th>\n",
       "      <th>age</th>\n",
       "      <th>signup_date</th>\n",
       "      <th>country</th>\n",
       "      <th>is_active</th>\n",
       "      <th>last_updated</th>\n",
       "    </tr>\n",
       "  </thead>\n",
       "  <tbody>\n",
       "    <tr>\n",
       "      <th>0</th>\n",
       "      <td>1</td>\n",
       "      <td>25</td>\n",
       "      <td>2022-04-13</td>\n",
       "      <td>Cameroon</td>\n",
       "      <td>False</td>\n",
       "      <td>2022-04-13 20:07:00</td>\n",
       "    </tr>\n",
       "    <tr>\n",
       "      <th>1</th>\n",
       "      <td>2</td>\n",
       "      <td>41</td>\n",
       "      <td>2022-12-15</td>\n",
       "      <td>USA</td>\n",
       "      <td>False</td>\n",
       "      <td>2022-12-15 00:47:00</td>\n",
       "    </tr>\n",
       "    <tr>\n",
       "      <th>2</th>\n",
       "      <td>3</td>\n",
       "      <td>28</td>\n",
       "      <td>2022-09-28</td>\n",
       "      <td>Kenya</td>\n",
       "      <td>False</td>\n",
       "      <td>2022-09-28 08:15:00</td>\n",
       "    </tr>\n",
       "    <tr>\n",
       "      <th>3</th>\n",
       "      <td>4</td>\n",
       "      <td>34</td>\n",
       "      <td>2022-04-17</td>\n",
       "      <td>UK</td>\n",
       "      <td>True</td>\n",
       "      <td>2022-04-17 07:08:00</td>\n",
       "    </tr>\n",
       "    <tr>\n",
       "      <th>4</th>\n",
       "      <td>5</td>\n",
       "      <td>25</td>\n",
       "      <td>2022-03-13</td>\n",
       "      <td>Kenya</td>\n",
       "      <td>False</td>\n",
       "      <td>2022-03-13 23:06:00</td>\n",
       "    </tr>\n",
       "  </tbody>\n",
       "</table>\n",
       "</div>"
      ],
      "text/plain": [
       "   user_id  age signup_date   country  is_active        last_updated\n",
       "0        1   25  2022-04-13  Cameroon      False 2022-04-13 20:07:00\n",
       "1        2   41  2022-12-15       USA      False 2022-12-15 00:47:00\n",
       "2        3   28  2022-09-28     Kenya      False 2022-09-28 08:15:00\n",
       "3        4   34  2022-04-17        UK       True 2022-04-17 07:08:00\n",
       "4        5   25  2022-03-13     Kenya      False 2022-03-13 23:06:00"
      ]
     },
     "execution_count": 25,
     "metadata": {},
     "output_type": "execute_result"
    }
   ],
   "source": [
    "# FULL EXTRACTION\n",
    "df_full = pd.read_csv(\"user_data_large.csv\", parse_dates=[\"last_updated\"])\n",
    "print(f\"Pulled {len(df_full)} rows via full extraction.\")\n",
    "df_full.head()"
   ]
  },
  {
   "cell_type": "code",
   "execution_count": 31,
   "id": "674d7b91",
   "metadata": {},
   "outputs": [
    {
     "name": "stdout",
     "output_type": "stream",
     "text": [
      "Initial extraction checkpoint set to: 2022-07-02 21:47:00\n"
     ]
    }
   ],
   "source": [
    "# Find the minimum and maximum of 'last_updated'\n",
    "min_time = df_full['last_updated'].min()\n",
    "max_time = df_full['last_updated'].max()\n",
    "\n",
    "# Set initial checkpoint to halfway between min and max\n",
    "initial_checkpoint = min_time + (max_time - min_time) / 2\n",
    "\n",
    "# Save it to a file\n",
    "with open(\"last_extraction.txt\", \"w\") as f:\n",
    "    f.write(initial_checkpoint.isoformat())\n",
    "\n",
    "print(f\"Initial extraction checkpoint set to: {initial_checkpoint}\")\n"
   ]
  },
  {
   "cell_type": "code",
   "execution_count": null,
   "id": "73925f49",
   "metadata": {},
   "outputs": [],
   "source": []
  },
  {
   "cell_type": "code",
   "execution_count": 32,
   "id": "c89bfa06",
   "metadata": {},
   "outputs": [
    {
     "name": "stdout",
     "output_type": "stream",
     "text": [
      "Pulled 58 new/updated rows since 2022-07-02T21:47:00.\n"
     ]
    },
    {
     "data": {
      "application/vnd.microsoft.datawrangler.viewer.v0+json": {
       "columns": [
        {
         "name": "index",
         "rawType": "int64",
         "type": "integer"
        },
        {
         "name": "user_id",
         "rawType": "int64",
         "type": "integer"
        },
        {
         "name": "age",
         "rawType": "int64",
         "type": "integer"
        },
        {
         "name": "signup_date",
         "rawType": "object",
         "type": "string"
        },
        {
         "name": "country",
         "rawType": "object",
         "type": "string"
        },
        {
         "name": "is_active",
         "rawType": "bool",
         "type": "boolean"
        },
        {
         "name": "last_updated",
         "rawType": "datetime64[ns]",
         "type": "datetime"
        }
       ],
       "ref": "de50e3ff-e0fb-4e1a-9afe-4cd11ed48c28",
       "rows": [
        [
         "1",
         "2",
         "41",
         "2022-12-15",
         "USA",
         "False",
         "2022-12-15 00:47:00"
        ],
        [
         "2",
         "3",
         "28",
         "2022-09-28",
         "Kenya",
         "False",
         "2022-09-28 08:15:00"
        ],
        [
         "5",
         "6",
         "52",
         "2022-07-08",
         "Kenya",
         "False",
         "2022-07-08 21:47:00"
        ],
        [
         "9",
         "10",
         "59",
         "2022-08-03",
         "Kenya",
         "False",
         "2022-08-03 02:13:00"
        ],
        [
         "10",
         "11",
         "56",
         "2022-11-27",
         "UK",
         "False",
         "2022-11-27 07:32:00"
        ]
       ],
       "shape": {
        "columns": 6,
        "rows": 5
       }
      },
      "text/html": [
       "<div>\n",
       "<style scoped>\n",
       "    .dataframe tbody tr th:only-of-type {\n",
       "        vertical-align: middle;\n",
       "    }\n",
       "\n",
       "    .dataframe tbody tr th {\n",
       "        vertical-align: top;\n",
       "    }\n",
       "\n",
       "    .dataframe thead th {\n",
       "        text-align: right;\n",
       "    }\n",
       "</style>\n",
       "<table border=\"1\" class=\"dataframe\">\n",
       "  <thead>\n",
       "    <tr style=\"text-align: right;\">\n",
       "      <th></th>\n",
       "      <th>user_id</th>\n",
       "      <th>age</th>\n",
       "      <th>signup_date</th>\n",
       "      <th>country</th>\n",
       "      <th>is_active</th>\n",
       "      <th>last_updated</th>\n",
       "    </tr>\n",
       "  </thead>\n",
       "  <tbody>\n",
       "    <tr>\n",
       "      <th>1</th>\n",
       "      <td>2</td>\n",
       "      <td>41</td>\n",
       "      <td>2022-12-15</td>\n",
       "      <td>USA</td>\n",
       "      <td>False</td>\n",
       "      <td>2022-12-15 00:47:00</td>\n",
       "    </tr>\n",
       "    <tr>\n",
       "      <th>2</th>\n",
       "      <td>3</td>\n",
       "      <td>28</td>\n",
       "      <td>2022-09-28</td>\n",
       "      <td>Kenya</td>\n",
       "      <td>False</td>\n",
       "      <td>2022-09-28 08:15:00</td>\n",
       "    </tr>\n",
       "    <tr>\n",
       "      <th>5</th>\n",
       "      <td>6</td>\n",
       "      <td>52</td>\n",
       "      <td>2022-07-08</td>\n",
       "      <td>Kenya</td>\n",
       "      <td>False</td>\n",
       "      <td>2022-07-08 21:47:00</td>\n",
       "    </tr>\n",
       "    <tr>\n",
       "      <th>9</th>\n",
       "      <td>10</td>\n",
       "      <td>59</td>\n",
       "      <td>2022-08-03</td>\n",
       "      <td>Kenya</td>\n",
       "      <td>False</td>\n",
       "      <td>2022-08-03 02:13:00</td>\n",
       "    </tr>\n",
       "    <tr>\n",
       "      <th>10</th>\n",
       "      <td>11</td>\n",
       "      <td>56</td>\n",
       "      <td>2022-11-27</td>\n",
       "      <td>UK</td>\n",
       "      <td>False</td>\n",
       "      <td>2022-11-27 07:32:00</td>\n",
       "    </tr>\n",
       "  </tbody>\n",
       "</table>\n",
       "</div>"
      ],
      "text/plain": [
       "    user_id  age signup_date country  is_active        last_updated\n",
       "1         2   41  2022-12-15     USA      False 2022-12-15 00:47:00\n",
       "2         3   28  2022-09-28   Kenya      False 2022-09-28 08:15:00\n",
       "5         6   52  2022-07-08   Kenya      False 2022-07-08 21:47:00\n",
       "9        10   59  2022-08-03   Kenya      False 2022-08-03 02:13:00\n",
       "10       11   56  2022-11-27      UK      False 2022-11-27 07:32:00"
      ]
     },
     "execution_count": 32,
     "metadata": {},
     "output_type": "execute_result"
    }
   ],
   "source": [
    "# INCREMENTAL EXTRACTION\n",
    "with open(\"last_extraction.txt\", \"r\") as f:\n",
    "    last_extraction = f.read().strip()\n",
    "df = pd.read_csv(\"user_data_large.csv\", parse_dates=[\"last_updated\"])\n",
    "last_extraction_time = pd.to_datetime(last_extraction)\n",
    "df_incremental = df[df['last_updated'] > last_extraction_time]\n",
    "print(f\"Pulled {len(df_incremental)} new/updated rows since {last_extraction}.\")\n",
    "df_incremental.head()"
   ]
  },
  {
   "cell_type": "code",
   "execution_count": 33,
   "id": "e431355a",
   "metadata": {},
   "outputs": [
    {
     "name": "stdout",
     "output_type": "stream",
     "text": [
      "Updated last_extraction.txt to 2022-12-30 21:14:00\n"
     ]
    }
   ],
   "source": [
    "# Get the most recent update\n",
    "new_checkpoint = df['last_updated'].max()\n",
    "# Save it\n",
    "with open(\"last_extraction.txt\", \"w\") as f:\n",
    "    f.write(new_checkpoint.isoformat())\n",
    "print(f\"Updated last_extraction.txt to {new_checkpoint}\")"
   ]
  }
 ],
 "metadata": {
  "kernelspec": {
   "display_name": "Python 3",
   "language": "python",
   "name": "python3"
  },
  "language_info": {
   "codemirror_mode": {
    "name": "ipython",
    "version": 3
   },
   "file_extension": ".py",
   "mimetype": "text/x-python",
   "name": "python",
   "nbconvert_exporter": "python",
   "pygments_lexer": "ipython3",
   "version": "3.12.0"
  }
 },
 "nbformat": 4,
 "nbformat_minor": 5
}
